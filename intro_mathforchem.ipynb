{
 "cells": [
  {
   "cell_type": "markdown",
   "metadata": {},
   "source": [
    "\n",
    "Throughout my time at UVA, a the idea of some sort of math course with a computational piece has increasingly crossed my mind. It would be small and low-stakes, perhaps one credit, but it would be greatly useful, especially in its capacity to act as a refresher *before* students see P Chem (I say this as a P Chem TA who believes the biggest hurdle to student success was lack of math familiarity). This Jupyter Notebook was created to pitch an idea of such a course was also demostrating its potential efficacy as the main tool for instruction and learning. I believe this to be an attractive option due to its ability to couple code and text, seemlessly integrating the two. To quote a [pdf](https://www.birmingham.ac.uk/Documents/college-eps/college/stem/Student-Summer-Education-Internships/Maths-for-Chemists-Booklet.pdf) I found that goes through a math for chemistry class content that might be a useful resource:\n",
    "\n",
    "> Mathematics is an essential and integral component of all of the scientific disciplines, and its applications within chemistry are numerous and widespread. Mathematics allows a chemist to understand\n",
    "a range of important concepts, model physical scenarios, and solve problems. In your pre-university\n",
    "studies it is likely you have already encountered the use of mathematics within chemistry, for example\n",
    "the use of ratios in mixing solutions and making dilutions or the use of logarithms in understanding\n",
    "the pH scale. As you move through your university studies you will see mathematics increasingly\n",
    "used to explain chemistry concepts in more sophisticated ways, for example the use of vectors in\n",
    "understanding the structures of crystals, or numerical approximations of ordinary differential equations (ODEs) in kinetics to predict the rates and mechanisms of chemical reactions. The ability to\n",
    "understand and apply mathematics will be important regardless of the branch of chemistry you are\n",
    "studying, be it the more traditional areas of inorganic, organic and physical chemistry or some of\n",
    "the newer areas of the subject such as biochemistry, analytical and environmental chemistry.\n",
    "\n",
    "To advocate for \"code literacy,\" the world is advancing at a rapid pace in no small part to technological advances contingent on code (phrases like *machine learning* and *artificial intelligence* grow increasingly ubiquitious as time passes). To this end, I believe it is paramount to equip chemistry students with some ability to read and write code at a basic level, even if they are a practicing bench chemist. As I descend from my soapbox, I begin some actual content that could make its way into the course if it comes to fruition.\n",
    "\n",
    "### TOC:\n",
    "* [Introduction to Programming](#first-bullet)\n",
    "    * [Types in Python](#first-first-bullet)\n",
    "    * [Variables and Loops](#first-second-bullet)\n",
    "* [Calculus](#second-bullet)\n",
    "* [Linear Algebra](#third-bullet)\n",
    "* [Miscellaenous but Cool](#fourth-bullet)"
   ]
  },
  {
   "cell_type": "markdown",
   "metadata": {},
   "source": [
    "# $\\S 1.$ Introduction to Python <a class=\"anchor\" id=\"first-bullet\"></a>\n",
    "\n",
    "Python is, perhaps, the most popular programming language right now due to its wide variety of features, the community that supports it, and a general ease of learning due to how readable the code is. Jupyter notebooks interface with a Python **interpreter** in order to run Python code. As a time honored tradition, the first piece of code one should run is printing `hello world` out to the console."
   ]
  },
  {
   "cell_type": "code",
   "execution_count": 1,
   "metadata": {},
   "outputs": [
    {
     "name": "stdout",
     "output_type": "stream",
     "text": [
      "hello world\n"
     ]
    }
   ],
   "source": [
    "print('hello world')"
   ]
  },
  {
   "cell_type": "markdown",
   "metadata": {},
   "source": [
    "It's important to note that `print` is a keyword in Python that allows us to visualize things to the console. Although it may seem basic, it's a deeply important tool that can often help us figure out where code deviates from that which we intend it to do."
   ]
  },
  {
   "cell_type": "markdown",
   "metadata": {},
   "source": [
    "## Types in Python <a class=\"anchor\" id=\"first-first-bullet\"></a>\n",
    "\n",
    "The idea of a \"type\" is not unique to Python. Instead, it's a word used to generally describe how data is represented in your machine. For the sake of this document, strings, integers, floating points, lists, and arrays will be the ones we discuss here that are common to most other langauges. The outlier will be a \"dataframe\" but we'll return to that later. Let's look at some examples:"
   ]
  },
  {
   "cell_type": "code",
   "execution_count": 9,
   "metadata": {},
   "outputs": [
    {
     "name": "stdout",
     "output_type": "stream",
     "text": [
      "Type I: <class 'str'>\n",
      "Type II: <class 'int'>\n",
      "Type III: <class 'float'>\n",
      "Type IIII: <class 'list'>\n"
     ]
    }
   ],
   "source": [
    "print(\"Type I:\", type(\"hello world\"))\n",
    "print(\"Type II:\", type(5000))\n",
    "print(\"Type III:\", type(5000.))\n",
    "print(\"Type IIII:\", type(['hello world', 5000, 5000.]))"
   ]
  },
  {
   "cell_type": "markdown",
   "metadata": {},
   "source": [
    "To get arrays, we'll have to `import` a Python library named `NumPy`. Libraries in Python are stored within your machines, but they can't be accessed by a program unless they are imported. This keeps Python very lean as you can control whatever you wish to use. When importing libraries, you can give it a shorter name (analagous to a nickname) for easier referencing when you use on of its features. NumPy is commonly imported as `np` though it can be whatever you wish."
   ]
  },
  {
   "cell_type": "code",
   "execution_count": 12,
   "metadata": {},
   "outputs": [
    {
     "name": "stdout",
     "output_type": "stream",
     "text": [
      "<class 'numpy.ndarray'>\n"
     ]
    }
   ],
   "source": [
    "import numpy as np\n",
    "\n",
    "print(type(np.arange(0, 2, 1)))"
   ]
  },
  {
   "cell_type": "markdown",
   "metadata": {},
   "source": [
    "## Variables and Loops <a class=\"anchor\" id=\"first-second-bullet\"></a>"
   ]
  },
  {
   "cell_type": "markdown",
   "metadata": {},
   "source": [
    "In mathematics, one might see the symbol '$\\equiv$' used to mean something is *defined* as something. In thermodynamics, $\\beta \\equiv \\frac{1}{k_B T}$ means that $\\beta$ is defined to be reciprocal temperature multiplied by one over the Boltzmann constant. In code, the '=' holds the same meaning."
   ]
  },
  {
   "cell_type": "code",
   "execution_count": 13,
   "metadata": {},
   "outputs": [
    {
     "name": "stdout",
     "output_type": "stream",
     "text": [
      "5\n"
     ]
    }
   ],
   "source": [
    "x = 5\n",
    "\n",
    "print(x)"
   ]
  },
  {
   "cell_type": "markdown",
   "metadata": {},
   "source": [
    "In the block above, we've defined x to be 5. Consequently, we can change this however we see fit while also defining any `type` to a variable. "
   ]
  },
  {
   "cell_type": "code",
   "execution_count": 15,
   "metadata": {},
   "outputs": [
    {
     "name": "stdout",
     "output_type": "stream",
     "text": [
      "New Int: 5\n",
      "New Float: 5.0\n",
      "New List: [5, 5.0]\n",
      "New Array: [5]\n"
     ]
    }
   ],
   "source": [
    "new_int = 5\n",
    "new_float = 5.0\n",
    "new_list = [5, 5.0]\n",
    "new_array = np.arange(5, 6, 1)\n",
    "\n",
    "print(\"New Int:\", new_int)\n",
    "print(\"New Float:\", new_float)\n",
    "print(\"New List:\", new_list)\n",
    "print(\"New Array:\", new_array)"
   ]
  },
  {
   "cell_type": "markdown",
   "metadata": {},
   "source": [
    "We can perform operations on and/or variables as well."
   ]
  },
  {
   "cell_type": "code",
   "execution_count": 18,
   "metadata": {},
   "outputs": [
    {
     "name": "stdout",
     "output_type": "stream",
     "text": [
      "10\n",
      "[ 1  2  3  4  5  6  7  8  9 10 11 12 13 14 15 16 17 18 19 20]\n",
      "[1.         1.41421356 1.73205081 2.         2.23606798 2.44948974\n",
      " 2.64575131 2.82842712 3.         3.16227766 3.31662479 3.46410162\n",
      " 3.60555128 3.74165739 3.87298335 4.         4.12310563 4.24264069\n",
      " 4.35889894 4.47213595]\n"
     ]
    }
   ],
   "source": [
    "print(x+new_int)\n",
    "\n",
    "b = np.arange(1, 21, 1) # create an array from 1 to 21 in increments of 1\n",
    "\n",
    "print(b)\n",
    "\n",
    "print(np.sqrt(b))"
   ]
  },
  {
   "cell_type": "markdown",
   "metadata": {},
   "source": [
    "Suppose you had a repeated action. Rather than doing it by hand, you can use a `loop`. The two common ones are `for` and `while` loops, each of which run based on a certain condition. For while loops in particular, it's important to make sure your ending condition can be met, or else the loop will run forever."
   ]
  },
  {
   "cell_type": "code",
   "execution_count": 26,
   "metadata": {},
   "outputs": [
    {
     "name": "stdout",
     "output_type": "stream",
     "text": [
      "Results of For Loop:\n",
      "\n",
      "0\n",
      "1\n",
      "2\n",
      "3\n",
      "4\n",
      "\n",
      "Results of While Loop: \n",
      "\n",
      "0\n",
      "1\n",
      "2\n",
      "3\n",
      "4\n"
     ]
    }
   ],
   "source": [
    "print(\"Results of For Loop:\\n\")  # \\n here creates a new line when printing\n",
    "\n",
    "for i in range(5):\n",
    "    print(i)\n",
    "\n",
    "\n",
    "print(\"\\nResults of While Loop: \\n\") \n",
    "counter = 0\n",
    "\n",
    "while counter < 5:\n",
    "    print(counter)\n",
    "    counter += 1"
   ]
  },
  {
   "cell_type": "markdown",
   "metadata": {},
   "source": [
    "# $\\S 2.$ Calculus <a class=\"anchor\" id=\"second-bullet\"></a>"
   ]
  },
  {
   "cell_type": "markdown",
   "metadata": {},
   "source": [
    "The package `SymPy` allows for symbolic calculus to be performed right here on your machine. Numerical forms of this are also possible, but we'll start with what you might be used to seeing."
   ]
  },
  {
   "cell_type": "code",
   "execution_count": 27,
   "metadata": {},
   "outputs": [],
   "source": [
    "from sympy import *\n",
    "x, y, z = symbols('x y z')\n",
    "init_printing(use_unicode=True)"
   ]
  },
  {
   "cell_type": "code",
   "execution_count": 28,
   "metadata": {},
   "outputs": [
    {
     "data": {
      "image/png": "[encoded data removed]",
      "text/latex": [
       "$\\displaystyle - \\sin{\\left(x \\right)}$"
      ],
      "text/plain": [
       "-sin(x)"
      ]
     },
     "execution_count": 28,
     "metadata": {},
     "output_type": "execute_result"
    }
   ],
   "source": [
    "diff(cos(x), x)"
   ]
  },
  {
   "cell_type": "code",
   "execution_count": 29,
   "metadata": {},
   "outputs": [
    {
     "data": {
      "image/png": "[encoded data removed]",
      "text/latex": [
       "$\\displaystyle 2 x e^{x^{2}}$"
      ],
      "text/plain": [
       "     ⎛ 2⎞\n",
       "     ⎝x ⎠\n",
       "2⋅x⋅ℯ    "
      ]
     },
     "execution_count": 29,
     "metadata": {},
     "output_type": "execute_result"
    }
   ],
   "source": [
    "diff(exp(x**2), x)"
   ]
  },
  {
   "cell_type": "code",
   "execution_count": 30,
   "metadata": {},
   "outputs": [
    {
     "data": {
      "image/png": "[encoded data removed]",
      "text/latex": [
       "$\\displaystyle 24 x$"
      ],
      "text/plain": [
       "24⋅x"
      ]
     },
     "execution_count": 30,
     "metadata": {},
     "output_type": "execute_result"
    }
   ],
   "source": [
    "diff(x**4, x, 3) # third derivative of x^4"
   ]
  },
  {
   "cell_type": "code",
   "execution_count": 31,
   "metadata": {},
   "outputs": [
    {
     "data": {
      "image/png": "[encoded data removed]",
      "text/latex": [
       "$\\displaystyle \\sin{\\left(x \\right)}$"
      ],
      "text/plain": [
       "sin(x)"
      ]
     },
     "execution_count": 31,
     "metadata": {},
     "output_type": "execute_result"
    }
   ],
   "source": [
    "integrate(cos(x), x)"
   ]
  },
  {
   "cell_type": "code",
   "execution_count": 33,
   "metadata": {},
   "outputs": [
    {
     "data": {
      "image/png": "[encoded data removed]",
      "text/latex": [
       "$\\displaystyle 1$"
      ],
      "text/plain": [
       "1"
      ]
     },
     "execution_count": 33,
     "metadata": {},
     "output_type": "execute_result"
    }
   ],
   "source": [
    "integrate(exp(-x), (x, 0, oo)) # integrate e^-x from 0 to infinity "
   ]
  },
  {
   "cell_type": "code",
   "execution_count": 36,
   "metadata": {},
   "outputs": [
    {
     "data": {
      "image/png": "[encoded data removed]",
      "text/latex": [
       "$\\displaystyle \\sqrt{\\pi}$"
      ],
      "text/plain": [
       "√π"
      ]
     },
     "execution_count": 36,
     "metadata": {},
     "output_type": "execute_result"
    }
   ],
   "source": [
    "integrate(exp(-x**2), (x, -oo, oo)) # integrate single Gaussian, a common integral in quantum mechanics"
   ]
  },
  {
   "cell_type": "code",
   "execution_count": 37,
   "metadata": {},
   "outputs": [
    {
     "data": {
      "image/png": "[encoded data removed]",
      "text/latex": [
       "$\\displaystyle \\pi$"
      ],
      "text/plain": [
       "π"
      ]
     },
     "execution_count": 37,
     "metadata": {},
     "output_type": "execute_result"
    }
   ],
   "source": [
    "integrate(exp(-x**2 - y**2), (x, -oo, oo), (y, -oo, oo)) # integrate double Gaussian"
   ]
  },
  {
   "cell_type": "markdown",
   "metadata": {},
   "source": [
    "# $\\S 3.$ Linear Algebra <a class=\"anchor\" id=\"third-bullet\"></a>"
   ]
  },
  {
   "cell_type": "markdown",
   "metadata": {},
   "source": [
    "Matrix and vector addition proceeds element-by-element. \n",
    "\n",
    "$$ \\vec{a} + \\vec{b} = \\begin{bmatrix} a_1 + b_1 \\\\ a_2 + b_2 \\\\ \\vdots \\\\ a_n + b_n \\end{bmatrix} $$\n",
    "Here, we see it's necessary for the vectors to have the same number of entries for the procedure to be defined. Subtraction works the same way, just flipping the sign of each element in the second vector. \n",
    "\n",
    "Matrix multiplication isn't quite as intuitive, however we showed how it arises naturally when one considers representing a system of equations using matrices and vectors, and how one can recover that system through matrix multiplication. The formula is as follows:\n",
    "\n",
    "$$ \\sum_j A_{ij} B_{jk} = C_{ik} $$\n",
    "Here, the first subscript corresponds to the number of rows while the second describes the number of columns. Since we sum along *j*, we see that the first matrix must have the same number of columns as the second one has rows. Pictorially, we can see it below:"
   ]
  },
  {
   "cell_type": "code",
   "execution_count": 38,
   "metadata": {},
   "outputs": [
    {
     "data": {
      "image/png": "[encoded data removed]",
      "text/plain": [
       "<IPython.core.display.Image object>"
      ]
     },
     "metadata": {
      "image/png": {
       "height": 600,
       "width": 600
      }
     },
     "output_type": "display_data"
    }
   ],
   "source": [
    "from IPython.display import display, Image\n",
    "\n",
    "display(Image(filename=\"/Users/mohan/Desktop/Misc/stemva/linalg_talk/matmul.png\", height = 600, width = 600))"
   ]
  },
  {
   "cell_type": "code",
   "execution_count": 48,
   "metadata": {},
   "outputs": [
    {
     "data": {
      "text/latex": [
       "$\\displaystyle \\left( \\left[\\begin{matrix}1 & 4\\\\3 & 2\\end{matrix}\\right], \\  \\left[\\begin{matrix}1\\\\1\\end{matrix}\\right], \\  \\left[\\begin{matrix}5\\\\5\\end{matrix}\\right], \\  \\left[\\begin{matrix}0\\\\4\\end{matrix}\\right]\\right)$"
      ],
      "text/plain": [
       "⎛⎡1  4⎤  ⎡1⎤  ⎡5⎤  ⎡0⎤⎞\n",
       "⎜⎢    ⎥, ⎢ ⎥, ⎢ ⎥, ⎢ ⎥⎟\n",
       "⎝⎣3  2⎦  ⎣1⎦  ⎣5⎦  ⎣4⎦⎠"
      ]
     },
     "execution_count": 48,
     "metadata": {},
     "output_type": "execute_result"
    }
   ],
   "source": [
    "A = np.random.randint(5, size = 4).reshape(2,2)\n",
    "c = np.random.randint(5, size = 2).reshape(2,1)\n",
    "v = np.array([1, 1])\n",
    "\n",
    "A_sym = Matrix(A)\n",
    "c_sym = Matrix(c)\n",
    "v_sym = Matrix(v)\n",
    "\n",
    "w = A @ v\n",
    "\n",
    "A_sym, v_sym, A_sym*v_sym, c_sym # sympy matrix multiplication works using \"*\""
   ]
  },
  {
   "cell_type": "code",
   "execution_count": 49,
   "metadata": {},
   "outputs": [
    {
     "name": "stdout",
     "output_type": "stream",
     "text": [
      "Matrix: \n",
      " [[1 4]\n",
      " [3 2]]\n",
      "Initial Vector: [1 1]\n",
      "New Vector: [5 5]\n",
      "Non-Matmul Product: \n",
      " [[ 0  0]\n",
      " [12  8]]\n"
     ]
    },
    {
     "data": {
      "image/png": "[encoded data removed]",
      "text/plain": [
       "<Figure size 640x480 with 1 Axes>"
      ]
     },
     "metadata": {},
     "output_type": "display_data"
    }
   ],
   "source": [
    "import matplotlib.pyplot as plt\n",
    "\n",
    "print(\"Matrix: \\n\", A)\n",
    "print(\"Initial Vector:\", v)\n",
    "print(\"New Vector:\", A @ v) # All other matrix multiplcation works using \"@\", \"np.matmul\", or \"np.dot\"; try it here!\n",
    "\n",
    "print(\"Non-Matmul Product: \\n\", A*c) # \"*\" performs element wise multiplication between matrices/vectors which differs from an inner product\n",
    "\n",
    "fig, ax = plt.subplots()\n",
    "ax.quiver(0, 0, v[0], v[1], angles='xy', scale_units='xy', scale=1, color='k')\n",
    "ax.quiver(0, 0, w[0], w[1], angles='xy', scale_units='xy', scale=1, color='r')\n",
    "ax.set_xlim([-5, 10])\n",
    "ax.set_ylim([-5, 10])\n",
    "plt.grid()\n",
    "plt.show()"
   ]
  },
  {
   "cell_type": "markdown",
   "metadata": {},
   "source": [
    "# $\\S 4.$ Miscellaneous but Cool <a class=\"anchor\" id=\"fourth-bullet\"></a>"
   ]
  },
  {
   "cell_type": "markdown",
   "metadata": {},
   "source": [
    "Attached below is code to look up any chemical compound in the PubChem data base and calculate how many C-H bonds it has."
   ]
  },
  {
   "cell_type": "code",
   "execution_count": 52,
   "metadata": {},
   "outputs": [
    {
     "name": "stdout",
     "output_type": "stream",
     "text": [
      "There are 31 C-H bonds in palmitic acid.\n",
      "There are 31 C-H bonds in the compound.\n"
     ]
    }
   ],
   "source": [
    "import requests\n",
    "import pubchempy as pcp\n",
    "import numpy as np\n",
    "\n",
    "\n",
    "name = 'palmitic acid'\n",
    "cas_num = '57-10-3'\n",
    "\n",
    "def get_cid(number):\n",
    "    '''\n",
    "    Returns CID number from CAS \n",
    "    '''\n",
    "    r = requests.get('https://pubchem.ncbi.nlm.nih.gov/rest/pug/compound/name/'+number+'/cids/TXT') \n",
    "    print(r.text)\n",
    "    return r\n",
    "\n",
    "def ch_bond_finder(compound):\n",
    "    results = pcp.get_compounds(compound, 'name')\n",
    "    data = results[0].to_dict(properties=['atoms', 'bonds']) # results itself is a list, so you have to grab the 'compound' data type within the list\n",
    "    aid_carbon = [] # store atomic id's for all carbon atoms present in the compound when looking at the atom data\n",
    "    aid_hydrogen = [] # store atomic id's for all hydrogen atoms present in the compound when looking at the atom data\n",
    "\n",
    "    for i in range(len(data['atoms'])): # iterate thru all atoms in compounds\n",
    "        atom_values = data['atoms'][i].values() # grab relevant atom data \n",
    "        atom_name = list(atom_values)[2] # turn the values of the dictionary into a list so they can be indexed\n",
    "        if atom_name == 'C':\n",
    "            aid_carbon.append(list(atom_values)[0]) # append atomic id to appropriate list\n",
    "        elif atom_name == 'H':\n",
    "            aid_hydrogen.append(list(atom_values)[0]) # append atomic id to appropriate list\n",
    "        \n",
    "    num_ch_bonds = 0\n",
    "\n",
    "    for i in range(len(data['bonds'])): # iterate thru all atoms in compounds\n",
    "        bond_values = data['bonds'][i].values() # the bonds dictionary lists atom 1 [0], atom 2 [1], and the order of the bond [3]\n",
    "        if list(bond_values)[0] in aid_carbon and list(bond_values)[1] in aid_hydrogen and list(bond_values)[2] == 1: # Non-Hydrogen atoms are always listed first (indexed by 0), so check if there is a C-H bond of order 1\n",
    "            num_ch_bonds += 1\n",
    "\n",
    "    return num_ch_bonds\n",
    "        \n",
    "\n",
    "num_ch_bonds = ch_bond_finder(name)\n",
    "\n",
    "print(\"There are {} C-H bonds in {}.\".format(num_ch_bonds, name))\n",
    "\n",
    "num_ch_bonds = ch_bond_finder(cas_num)\n",
    "\n",
    "print(\"There are {} C-H bonds in the compound.\".format(num_ch_bonds))\n",
    "        "
   ]
  }
 ],
 "metadata": {
  "kernelspec": {
   "display_name": "Python 3",
   "language": "python",
   "name": "python3"
  },
  "language_info": {
   "codemirror_mode": {
    "name": "ipython",
    "version": 3
   },
   "file_extension": ".py",
   "mimetype": "text/x-python",
   "name": "python",
   "nbconvert_exporter": "python",
   "pygments_lexer": "ipython3",
   "version": "3.12.2"
  }
 },
 "nbformat": 4,
 "nbformat_minor": 2
}
