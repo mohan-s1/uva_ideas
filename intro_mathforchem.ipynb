{
 "cells": [
  {
   "cell_type": "markdown",
   "metadata": {},
   "source": [
    "\n",
    "Throughout my time at UVA, a the idea of some sort of math course with a computational piece has increasingly crossed my mind. It would be small and low-stakes, perhaps one credit, but it would be greatly useful, especially in its capacity to act as a refresher *before* students see P Chem (I say this as a P Chem TA who believes the biggest hurdle to student success was lack of math familiarity). This Jupyter Notebook was created to pitch an idea of such a course was also demostrating its potential efficacy as the main tool for instruction and learning. I believe this to be an attractive option due to its ability to couple code and text, seemlessly integrating the two. To quote a [pdf](https://www.birmingham.ac.uk/Documents/college-eps/college/stem/Student-Summer-Education-Internships/Maths-for-Chemists-Booklet.pdf) I found that goes through a math for chemistry class content that might be a useful resource:\n",
    "\n",
    "> Mathematics is an essential and integral component of all of the scientific disciplines, and its applications within chemistry are numerous and widespread. Mathematics allows a chemist to understand\n",
    "a range of important concepts, model physical scenarios, and solve problems. In your pre-university\n",
    "studies it is likely you have already encountered the use of mathematics within chemistry, for example\n",
    "the use of ratios in mixing solutions and making dilutions or the use of logarithms in understanding\n",
    "the pH scale. As you move through your university studies you will see mathematics increasingly\n",
    "used to explain chemistry concepts in more sophisticated ways, for example the use of vectors in\n",
    "understanding the structures of crystals, or numerical approximations of ordinary differential equations (ODEs) in kinetics to predict the rates and mechanisms of chemical reactions. The ability to\n",
    "understand and apply mathematics will be important regardless of the branch of chemistry you are\n",
    "studying, be it the more traditional areas of inorganic, organic and physical chemistry or some of\n",
    "the newer areas of the subject such as biochemistry, analytical and environmental chemistry.\n",
    "\n",
    "To advocate for \"code literacy,\" the world is advancing at a rapid pace in no small part to technological advances contingent on code (phrases like *machine learning* and *artificial intelligence* grow increasingly ubiquitious as time passes). To this end, I believe it is paramount to equip chemistry students with some ability to read and write code at a basic level, even if they are a practicing bench chemist. As I descend from my soapbox, I begin some actual content that could make its way into the course if it comes to fruition.\n",
    "\n",
    "### TOC:\n",
    "* [Introduction to Programming](#first-bullet)\n",
    "    * [Types in Python](#first-first-bullet)\n",
    "    * [Variables and Loops](#first-second-bullet)\n",
    "* [Dimensional Analysis](#second-bullet)\n",
    "    * [Partition Function Example](#part_func)\n",
    "* [Calculus](#third-bullet)\n",
    "* [Linear Algebra](#fourth-bullet)\n",
    "* [Miscellaenous but Cool](#fifth-bullet)"
   ]
  },
  {
   "cell_type": "markdown",
   "metadata": {},
   "source": [
    "# $\\S 1.$ Introduction to Python <a class=\"anchor\" id=\"first-bullet\"></a>\n",
    "\n",
    "Python is, perhaps, the most popular programming language right now due to its wide variety of features, the community that supports it, and a general ease of learning due to how readable the code is. Jupyter notebooks interface with a Python **interpreter** in order to run Python code. As a time honored tradition, the first piece of code one should run is printing `hello world` out to the console."
   ]
  },
  {
   "cell_type": "code",
   "execution_count": 8,
   "metadata": {},
   "outputs": [
    {
     "name": "stdout",
     "output_type": "stream",
     "text": [
      "hello world\n"
     ]
    }
   ],
   "source": [
    "print('hello world')"
   ]
  },
  {
   "cell_type": "markdown",
   "metadata": {},
   "source": [
    "It's important to note that `print` is a keyword in Python that allows us to visualize things to the console. Although it may seem basic, it's a deeply important tool that can often help us figure out where code deviates from that which we intend it to do."
   ]
  },
  {
   "cell_type": "markdown",
   "metadata": {},
   "source": [
    "## Types in Python <a class=\"anchor\" id=\"first-first-bullet\"></a>\n",
    "\n",
    "The idea of a \"type\" is not unique to Python. Instead, it's a word used to generally describe how data is represented in your machine. For the sake of this document, strings, integers, floating points, lists, and arrays will be the ones we discuss here that are common to most other langauges. The outlier will be a \"dataframe\" but we'll return to that later. Let's look at some examples:"
   ]
  },
  {
   "cell_type": "code",
   "execution_count": 9,
   "metadata": {},
   "outputs": [
    {
     "name": "stdout",
     "output_type": "stream",
     "text": [
      "Type I: <class 'str'>\n",
      "Type II: <class 'int'>\n",
      "Type III: <class 'float'>\n",
      "Type IIII: <class 'list'>\n"
     ]
    }
   ],
   "source": [
    "print(\"Type I:\", type(\"hello world\"))\n",
    "print(\"Type II:\", type(5000))\n",
    "print(\"Type III:\", type(5000.))\n",
    "print(\"Type IIII:\", type(['hello world', 5000, 5000.]))"
   ]
  },
  {
   "cell_type": "markdown",
   "metadata": {},
   "source": [
    "To get arrays, we'll have to `import` a Python library named `NumPy`. Libraries in Python are stored within your machines, but they can't be accessed by a program unless they are imported. This keeps Python very lean as you can control whatever you wish to use. When importing libraries, you can give it a shorter name (analagous to a nickname) for easier referencing when you use on of its features. NumPy is commonly imported as `np` though it can be whatever you wish."
   ]
  },
  {
   "cell_type": "code",
   "execution_count": 10,
   "metadata": {},
   "outputs": [
    {
     "name": "stdout",
     "output_type": "stream",
     "text": [
      "<class 'numpy.ndarray'>\n"
     ]
    }
   ],
   "source": [
    "import numpy as np\n",
    "\n",
    "print(type(np.arange(0, 2, 1)))"
   ]
  },
  {
   "cell_type": "markdown",
   "metadata": {},
   "source": [
    "## Variables and Loops <a class=\"anchor\" id=\"first-second-bullet\"></a>"
   ]
  },
  {
   "cell_type": "markdown",
   "metadata": {},
   "source": [
    "In mathematics, one might see the symbol '$\\equiv$' used to mean something is *defined* as something. In thermodynamics, $\\beta \\equiv \\frac{1}{k_B T}$ means that $\\beta$ is defined to be reciprocal temperature multiplied by one over the Boltzmann constant. In code, the '=' holds the same meaning."
   ]
  },
  {
   "cell_type": "code",
   "execution_count": 11,
   "metadata": {},
   "outputs": [
    {
     "name": "stdout",
     "output_type": "stream",
     "text": [
      "5\n"
     ]
    }
   ],
   "source": [
    "x = 5\n",
    "\n",
    "print(x)"
   ]
  },
  {
   "cell_type": "markdown",
   "metadata": {},
   "source": [
    "In the block above, we've defined x to be 5. Consequently, we can change this however we see fit while also defining any `type` to a variable. "
   ]
  },
  {
   "cell_type": "code",
   "execution_count": 12,
   "metadata": {},
   "outputs": [
    {
     "name": "stdout",
     "output_type": "stream",
     "text": [
      "New Int: 5\n",
      "New Float: 5.0\n",
      "New List: [5, 5.0]\n",
      "New Array: [5]\n"
     ]
    }
   ],
   "source": [
    "new_int = 5\n",
    "new_float = 5.0\n",
    "new_list = [5, 5.0]\n",
    "new_array = np.arange(5, 6, 1)\n",
    "\n",
    "print(\"New Int:\", new_int)\n",
    "print(\"New Float:\", new_float)\n",
    "print(\"New List:\", new_list)\n",
    "print(\"New Array:\", new_array)"
   ]
  },
  {
   "cell_type": "markdown",
   "metadata": {},
   "source": [
    "We can perform operations on and/or variables as well."
   ]
  },
  {
   "cell_type": "code",
   "execution_count": 13,
   "metadata": {},
   "outputs": [
    {
     "name": "stdout",
     "output_type": "stream",
     "text": [
      "10\n",
      "[ 1  2  3  4  5  6  7  8  9 10 11 12 13 14 15 16 17 18 19 20]\n",
      "[1.         1.41421356 1.73205081 2.         2.23606798 2.44948974\n",
      " 2.64575131 2.82842712 3.         3.16227766 3.31662479 3.46410162\n",
      " 3.60555128 3.74165739 3.87298335 4.         4.12310563 4.24264069\n",
      " 4.35889894 4.47213595]\n"
     ]
    }
   ],
   "source": [
    "print(x+new_int)\n",
    "\n",
    "b = np.arange(1, 21, 1) # create an array from 1 to 21 in increments of 1\n",
    "\n",
    "print(b)\n",
    "\n",
    "print(np.sqrt(b))"
   ]
  },
  {
   "cell_type": "markdown",
   "metadata": {},
   "source": [
    "Suppose you had a repeated action. Rather than doing it by hand, you can use a `loop`. The two common ones are `for` and `while` loops, each of which run based on a certain condition. For while loops in particular, it's important to make sure your ending condition can be met, or else the loop will run forever."
   ]
  },
  {
   "cell_type": "code",
   "execution_count": 14,
   "metadata": {},
   "outputs": [
    {
     "name": "stdout",
     "output_type": "stream",
     "text": [
      "Results of For Loop:\n",
      "\n",
      "0\n",
      "1\n",
      "2\n",
      "3\n",
      "4\n",
      "\n",
      "Results of While Loop: \n",
      "\n",
      "0\n",
      "1\n",
      "2\n",
      "3\n",
      "4\n"
     ]
    }
   ],
   "source": [
    "print(\"Results of For Loop:\\n\")  # \\n here creates a new line when printing\n",
    "\n",
    "for i in range(5):\n",
    "    print(i)\n",
    "\n",
    "\n",
    "print(\"\\nResults of While Loop: \\n\") \n",
    "counter = 0\n",
    "\n",
    "while counter < 5:\n",
    "    print(counter)\n",
    "    counter += 1"
   ]
  },
  {
   "cell_type": "markdown",
   "metadata": {},
   "source": [
    "# $\\S 2.$ Dimensional Analysis <a class=\"anchor\" id=\"second-bullet\"></a>"
   ]
  },
  {
   "cell_type": "markdown",
   "metadata": {},
   "source": [
    "Dimensional analysis is a crucial skill for chemists as it crops up in Gen Chem, Analytical Chem, and the Physical Chemistry courses to name a few. I've lost count of how many points on problem sets I've had to take off because people tried to say 1 $m^2 = 1 \\times 10^{-9} \\; nm^2$ or something similar. I'm certainly guilty of doing so. Considering how many problems can be solved with dimensional analysis, I thought it would be good to include. This is also aided by the existence of the Python package `Pint` which enables computers to consider units and dimensions. A link to their very expansive unit registry can be found [here](https://github.com/hgrecco/pint/blob/ad11d3a23aaf621af5ec3ee8c2080c896f6c7ab6/pint/default_en.txt).\n",
    "\n",
    " To be precise about one thing, *dimensions* are fundamental quantities like length, time, and mass while units are assigned to the quantities to measure them. Pint will enclose dimensions in square brackets like [length], [time], [mass] to make this distinction."
   ]
  },
  {
   "cell_type": "code",
   "execution_count": 15,
   "metadata": {},
   "outputs": [
    {
     "name": "stdout",
     "output_type": "stream",
     "text": [
      "3.04 meter\n",
      "[3.0000000004 4.0000000003] meter\n"
     ]
    }
   ],
   "source": [
    "import pint\n",
    "\n",
    "ureg = pint.UnitRegistry()\n",
    "\n",
    "print(3 * ureg.meter + 4 * ureg.cm)\n",
    "\n",
    "print([3, 4] * ureg.meter + [4, 3] * ureg.angstrom) "
   ]
  },
  {
   "cell_type": "code",
   "execution_count": 79,
   "metadata": {},
   "outputs": [
    {
     "name": "stdout",
     "output_type": "stream",
     "text": [
      "3 meter ** 2\n",
      "3 meter\n",
      "2.9999999999999995e+18 nanometer ** 2\n"
     ]
    },
    {
     "ename": "DimensionalityError",
     "evalue": "Cannot convert from 'meter ** 2' ([length] ** 2) to 'meter' ([length])",
     "output_type": "error",
     "traceback": [
      "\u001b[0;31m---------------------------------------------------------------------------\u001b[0m",
      "\u001b[0;31mDimensionalityError\u001b[0m                       Traceback (most recent call last)",
      "Cell \u001b[0;32mIn[79], line 6\u001b[0m\n\u001b[1;32m      4\u001b[0m \u001b[38;5;28mprint\u001b[39m(b)\n\u001b[1;32m      5\u001b[0m \u001b[38;5;28mprint\u001b[39m(a\u001b[38;5;241m.\u001b[39mto(\u001b[38;5;124m'\u001b[39m\u001b[38;5;124mnanometer squared\u001b[39m\u001b[38;5;124m'\u001b[39m)) \u001b[38;5;66;03m# due to the size of the data, there will be a very small rounding error\u001b[39;00m\n\u001b[0;32m----> 6\u001b[0m \u001b[38;5;28mprint\u001b[39m(\u001b[43ma\u001b[49m\u001b[43m \u001b[49m\u001b[38;5;241;43m+\u001b[39;49m\u001b[43m \u001b[49m\u001b[43mb\u001b[49m) \u001b[38;5;66;03m# should this last line be uncommented, an error will occur since you can't add something with dimension of [length]^2 to [length]\u001b[39;00m\n",
      "File \u001b[0;32m/Library/Frameworks/Python.framework/Versions/3.12/lib/python3.12/site-packages/pint/facets/plain/quantity.py:841\u001b[0m, in \u001b[0;36mPlainQuantity.__add__\u001b[0;34m(self, other)\u001b[0m\n\u001b[1;32m    838\u001b[0m \u001b[38;5;28;01mif\u001b[39;00m \u001b[38;5;28misinstance\u001b[39m(other, datetime\u001b[38;5;241m.\u001b[39mdatetime):\n\u001b[1;32m    839\u001b[0m     \u001b[38;5;28;01mreturn\u001b[39;00m \u001b[38;5;28mself\u001b[39m\u001b[38;5;241m.\u001b[39mto_timedelta() \u001b[38;5;241m+\u001b[39m other\n\u001b[0;32m--> 841\u001b[0m \u001b[38;5;28;01mreturn\u001b[39;00m \u001b[38;5;28;43mself\u001b[39;49m\u001b[38;5;241;43m.\u001b[39;49m\u001b[43m_add_sub\u001b[49m\u001b[43m(\u001b[49m\u001b[43mother\u001b[49m\u001b[43m,\u001b[49m\u001b[43m \u001b[49m\u001b[43moperator\u001b[49m\u001b[38;5;241;43m.\u001b[39;49m\u001b[43madd\u001b[49m\u001b[43m)\u001b[49m\n",
      "File \u001b[0;32m/Library/Frameworks/Python.framework/Versions/3.12/lib/python3.12/site-packages/pint/facets/plain/quantity.py:103\u001b[0m, in \u001b[0;36mcheck_implemented.<locals>.wrapped\u001b[0;34m(self, *args, **kwargs)\u001b[0m\n\u001b[1;32m    101\u001b[0m \u001b[38;5;28;01melif\u001b[39;00m \u001b[38;5;28misinstance\u001b[39m(other, \u001b[38;5;28mlist\u001b[39m) \u001b[38;5;129;01mand\u001b[39;00m other \u001b[38;5;129;01mand\u001b[39;00m \u001b[38;5;28misinstance\u001b[39m(other[\u001b[38;5;241m0\u001b[39m], \u001b[38;5;28mtype\u001b[39m(\u001b[38;5;28mself\u001b[39m)):\n\u001b[1;32m    102\u001b[0m     \u001b[38;5;28;01mreturn\u001b[39;00m \u001b[38;5;28mNotImplemented\u001b[39m\n\u001b[0;32m--> 103\u001b[0m \u001b[38;5;28;01mreturn\u001b[39;00m \u001b[43mf\u001b[49m\u001b[43m(\u001b[49m\u001b[38;5;28;43mself\u001b[39;49m\u001b[43m,\u001b[49m\u001b[43m \u001b[49m\u001b[38;5;241;43m*\u001b[39;49m\u001b[43margs\u001b[49m\u001b[43m,\u001b[49m\u001b[43m \u001b[49m\u001b[38;5;241;43m*\u001b[39;49m\u001b[38;5;241;43m*\u001b[39;49m\u001b[43mkwargs\u001b[49m\u001b[43m)\u001b[49m\n",
      "File \u001b[0;32m/Library/Frameworks/Python.framework/Versions/3.12/lib/python3.12/site-packages/pint/facets/plain/quantity.py:743\u001b[0m, in \u001b[0;36mPlainQuantity._add_sub\u001b[0;34m(self, other, op)\u001b[0m\n\u001b[1;32m    740\u001b[0m     \u001b[38;5;28;01mreturn\u001b[39;00m \u001b[38;5;28mself\u001b[39m\u001b[38;5;241m.\u001b[39m\u001b[38;5;18m__class__\u001b[39m(magnitude, units)\n\u001b[1;32m    742\u001b[0m \u001b[38;5;28;01mif\u001b[39;00m \u001b[38;5;129;01mnot\u001b[39;00m \u001b[38;5;28mself\u001b[39m\u001b[38;5;241m.\u001b[39mdimensionality \u001b[38;5;241m==\u001b[39m other\u001b[38;5;241m.\u001b[39mdimensionality:\n\u001b[0;32m--> 743\u001b[0m     \u001b[38;5;28;01mraise\u001b[39;00m DimensionalityError(\n\u001b[1;32m    744\u001b[0m         \u001b[38;5;28mself\u001b[39m\u001b[38;5;241m.\u001b[39m_units, other\u001b[38;5;241m.\u001b[39m_units, \u001b[38;5;28mself\u001b[39m\u001b[38;5;241m.\u001b[39mdimensionality, other\u001b[38;5;241m.\u001b[39mdimensionality\n\u001b[1;32m    745\u001b[0m     )\n\u001b[1;32m    747\u001b[0m \u001b[38;5;66;03m# Next we define some variables to make if-clauses more readable.\u001b[39;00m\n\u001b[1;32m    748\u001b[0m self_non_mul_units \u001b[38;5;241m=\u001b[39m \u001b[38;5;28mself\u001b[39m\u001b[38;5;241m.\u001b[39m_get_non_multiplicative_units()\n",
      "\u001b[0;31mDimensionalityError\u001b[0m: Cannot convert from 'meter ** 2' ([length] ** 2) to 'meter' ([length])"
     ]
    }
   ],
   "source": [
    "a = 3 * ureg.meter**2\n",
    "print(a)\n",
    "b = 3 * ureg.meter\n",
    "print(b)\n",
    "print(a.to('nanometer squared')) # due to the size of the data, there will be a very small rounding error\n",
    "print(a + b) # should this last line be uncommented, an error will occur since you can't add something with dimension of [length]^2 to [length]"
   ]
  },
  {
   "cell_type": "code",
   "execution_count": 75,
   "metadata": {},
   "outputs": [
    {
     "name": "stdout",
     "output_type": "stream",
     "text": [
      "Dimensions of distance: [length]\n",
      "\n",
      "Dimensions of time: [time]\n",
      "\n",
      "Our speed is: 3.0 meter / second\n",
      "\n",
      "Dimensions of speed: [length] / [time]\n",
      "\n",
      "Unit conversion of distance in meters to km: 0.024 kilometer\n",
      "\n",
      "Converting speed from m/s to inch/min: 7086.614173228347 inch / minute\n"
     ]
    }
   ],
   "source": [
    "distance = 24.0 * ureg.meter\n",
    "print(\"Dimensions of distance:\", distance.dimensionality)\n",
    "time = 8.0 * ureg.second\n",
    "print(\"\\nDimensions of time:\",time.dimensionality)\n",
    "speed = distance/time\n",
    "print(\"\\nOur speed is:\", speed)\n",
    "print(\"\\nDimensions of speed:\",speed.dimensionality)\n",
    "\n",
    "print(\"\\nUnit conversion of distance in meters to km:\", distance.to(ureg.km))\n",
    "print(\"\\nConverting speed from m/s to inch/min:\", speed.to('inch/minute'))\n",
    "\n",
    "# speed.to(ureg.joule) # this last line won't run as the dimensions don't make sense"
   ]
  },
  {
   "cell_type": "markdown",
   "metadata": {},
   "source": [
    "Similarly, the argument of any non-monomial function $f(x) \\neq ax^n$ must be **dimensionless**. The reason being these non-monomial functions can be written as a Taylor series with varying orders of polynomials, but we know we can't add meters to meters squared as an example."
   ]
  },
  {
   "cell_type": "code",
   "execution_count": 78,
   "metadata": {},
   "outputs": [
    {
     "data": {
      "text/html": [
       "1.6487212707001282 dimensionless"
      ],
      "text/latex": [
       "$1.6487212707001282\\ dimensionless$"
      ],
      "text/plain": [
       "1.6487212707001282 <Unit('dimensionless')>"
      ]
     },
     "execution_count": 78,
     "metadata": {},
     "output_type": "execute_result"
    }
   ],
   "source": [
    "dist_one = 5 * ureg.meter\n",
    "\n",
    "dist_two = 10 * ureg.meter\n",
    "\n",
    "np.exp(dist_one/dist_two) # note how the argument here is now dimensionless "
   ]
  },
  {
   "cell_type": "code",
   "execution_count": 77,
   "metadata": {},
   "outputs": [
    {
     "name": "stdout",
     "output_type": "stream",
     "text": [
      "5 meter\n"
     ]
    },
    {
     "ename": "DimensionalityError",
     "evalue": "Cannot convert from 'meter' ([length]) to 'dimensionless' (dimensionless)",
     "output_type": "error",
     "traceback": [
      "\u001b[0;31m---------------------------------------------------------------------------\u001b[0m",
      "\u001b[0;31mDimensionalityError\u001b[0m                       Traceback (most recent call last)",
      "Cell \u001b[0;32mIn[77], line 3\u001b[0m\n\u001b[1;32m      1\u001b[0m \u001b[38;5;28mprint\u001b[39m(dist_one)\n\u001b[0;32m----> 3\u001b[0m \u001b[43mnp\u001b[49m\u001b[38;5;241;43m.\u001b[39;49m\u001b[43mexp\u001b[49m\u001b[43m(\u001b[49m\u001b[43mdist_one\u001b[49m\u001b[43m)\u001b[49m \u001b[38;5;66;03m# note how this is not dimensionless and consequently fails to work\u001b[39;00m\n",
      "File \u001b[0;32m/Library/Frameworks/Python.framework/Versions/3.12/lib/python3.12/site-packages/pint/facets/numpy/quantity.py:73\u001b[0m, in \u001b[0;36mNumpyQuantity.__array_ufunc__\u001b[0;34m(self, ufunc, method, *inputs, **kwargs)\u001b[0m\n\u001b[1;32m     66\u001b[0m \u001b[38;5;66;03m# Replicate types from __array_function__\u001b[39;00m\n\u001b[1;32m     67\u001b[0m types \u001b[38;5;241m=\u001b[39m {\n\u001b[1;32m     68\u001b[0m     \u001b[38;5;28mtype\u001b[39m(arg)\n\u001b[1;32m     69\u001b[0m     \u001b[38;5;28;01mfor\u001b[39;00m arg \u001b[38;5;129;01min\u001b[39;00m \u001b[38;5;28mlist\u001b[39m(inputs) \u001b[38;5;241m+\u001b[39m \u001b[38;5;28mlist\u001b[39m(kwargs\u001b[38;5;241m.\u001b[39mvalues())\n\u001b[1;32m     70\u001b[0m     \u001b[38;5;28;01mif\u001b[39;00m \u001b[38;5;28mhasattr\u001b[39m(arg, \u001b[38;5;124m\"\u001b[39m\u001b[38;5;124m__array_ufunc__\u001b[39m\u001b[38;5;124m\"\u001b[39m)\n\u001b[1;32m     71\u001b[0m }\n\u001b[0;32m---> 73\u001b[0m \u001b[38;5;28;01mreturn\u001b[39;00m \u001b[43mnumpy_wrap\u001b[49m\u001b[43m(\u001b[49m\u001b[38;5;124;43m\"\u001b[39;49m\u001b[38;5;124;43mufunc\u001b[39;49m\u001b[38;5;124;43m\"\u001b[39;49m\u001b[43m,\u001b[49m\u001b[43m \u001b[49m\u001b[43mufunc\u001b[49m\u001b[43m,\u001b[49m\u001b[43m \u001b[49m\u001b[43minputs\u001b[49m\u001b[43m,\u001b[49m\u001b[43m \u001b[49m\u001b[43mkwargs\u001b[49m\u001b[43m,\u001b[49m\u001b[43m \u001b[49m\u001b[43mtypes\u001b[49m\u001b[43m)\u001b[49m\n",
      "File \u001b[0;32m/Library/Frameworks/Python.framework/Versions/3.12/lib/python3.12/site-packages/pint/facets/numpy/numpy_func.py:1042\u001b[0m, in \u001b[0;36mnumpy_wrap\u001b[0;34m(func_type, func, args, kwargs, types)\u001b[0m\n\u001b[1;32m   1040\u001b[0m \u001b[38;5;28;01mif\u001b[39;00m name \u001b[38;5;129;01mnot\u001b[39;00m \u001b[38;5;129;01min\u001b[39;00m handled \u001b[38;5;129;01mor\u001b[39;00m \u001b[38;5;28many\u001b[39m(is_upcast_type(t) \u001b[38;5;28;01mfor\u001b[39;00m t \u001b[38;5;129;01min\u001b[39;00m types):\n\u001b[1;32m   1041\u001b[0m     \u001b[38;5;28;01mreturn\u001b[39;00m \u001b[38;5;28mNotImplemented\u001b[39m\n\u001b[0;32m-> 1042\u001b[0m \u001b[38;5;28;01mreturn\u001b[39;00m \u001b[43mhandled\u001b[49m\u001b[43m[\u001b[49m\u001b[43mname\u001b[49m\u001b[43m]\u001b[49m\u001b[43m(\u001b[49m\u001b[38;5;241;43m*\u001b[39;49m\u001b[43margs\u001b[49m\u001b[43m,\u001b[49m\u001b[43m \u001b[49m\u001b[38;5;241;43m*\u001b[39;49m\u001b[38;5;241;43m*\u001b[39;49m\u001b[43mkwargs\u001b[49m\u001b[43m)\u001b[49m\n",
      "File \u001b[0;32m/Library/Frameworks/Python.framework/Versions/3.12/lib/python3.12/site-packages/pint/facets/numpy/numpy_func.py:302\u001b[0m, in \u001b[0;36mimplement_func.<locals>.implementation\u001b[0;34m(*args, **kwargs)\u001b[0m\n\u001b[1;32m    298\u001b[0m         pre_calc_units \u001b[38;5;241m=\u001b[39m input_units\n\u001b[1;32m    300\u001b[0m     \u001b[38;5;66;03m# Match all input args/kwargs to input_units, or if input_units is None,\u001b[39;00m\n\u001b[1;32m    301\u001b[0m     \u001b[38;5;66;03m# simply strip units\u001b[39;00m\n\u001b[0;32m--> 302\u001b[0m     stripped_args, stripped_kwargs \u001b[38;5;241m=\u001b[39m \u001b[43mconvert_to_consistent_units\u001b[49m\u001b[43m(\u001b[49m\n\u001b[1;32m    303\u001b[0m \u001b[43m        \u001b[49m\u001b[38;5;241;43m*\u001b[39;49m\u001b[43margs\u001b[49m\u001b[43m,\u001b[49m\u001b[43m \u001b[49m\u001b[43mpre_calc_units\u001b[49m\u001b[38;5;241;43m=\u001b[39;49m\u001b[43mpre_calc_units\u001b[49m\u001b[43m,\u001b[49m\u001b[43m \u001b[49m\u001b[38;5;241;43m*\u001b[39;49m\u001b[38;5;241;43m*\u001b[39;49m\u001b[43mkwargs\u001b[49m\n\u001b[1;32m    304\u001b[0m \u001b[43m    \u001b[49m\u001b[43m)\u001b[49m\n\u001b[1;32m    306\u001b[0m \u001b[38;5;66;03m# Determine result through plain numpy function on stripped arguments\u001b[39;00m\n\u001b[1;32m    307\u001b[0m result_magnitude \u001b[38;5;241m=\u001b[39m func(\u001b[38;5;241m*\u001b[39mstripped_args, \u001b[38;5;241m*\u001b[39m\u001b[38;5;241m*\u001b[39mstripped_kwargs)\n",
      "File \u001b[0;32m/Library/Frameworks/Python.framework/Versions/3.12/lib/python3.12/site-packages/pint/facets/numpy/numpy_func.py:111\u001b[0m, in \u001b[0;36mconvert_to_consistent_units\u001b[0;34m(pre_calc_units, *args, **kwargs)\u001b[0m\n\u001b[1;32m    101\u001b[0m \u001b[38;5;28;01mdef\u001b[39;00m \u001b[38;5;21mconvert_to_consistent_units\u001b[39m(\u001b[38;5;241m*\u001b[39margs, pre_calc_units\u001b[38;5;241m=\u001b[39m\u001b[38;5;28;01mNone\u001b[39;00m, \u001b[38;5;241m*\u001b[39m\u001b[38;5;241m*\u001b[39mkwargs):\n\u001b[1;32m    102\u001b[0m \u001b[38;5;250m    \u001b[39m\u001b[38;5;124;03m\"\"\"Prepare args and kwargs for wrapping by unit conversion and stripping.\u001b[39;00m\n\u001b[1;32m    103\u001b[0m \n\u001b[1;32m    104\u001b[0m \u001b[38;5;124;03m    If pre_calc_units is not None, takes the args and kwargs for a NumPy function and\u001b[39;00m\n\u001b[0;32m   (...)\u001b[0m\n\u001b[1;32m    108\u001b[0m \u001b[38;5;124;03m    stripped.\u001b[39;00m\n\u001b[1;32m    109\u001b[0m \u001b[38;5;124;03m    \"\"\"\u001b[39;00m\n\u001b[1;32m    110\u001b[0m     \u001b[38;5;28;01mreturn\u001b[39;00m (\n\u001b[0;32m--> 111\u001b[0m         \u001b[38;5;28;43mtuple\u001b[39;49m\u001b[43m(\u001b[49m\u001b[43mconvert_arg\u001b[49m\u001b[43m(\u001b[49m\u001b[43marg\u001b[49m\u001b[43m,\u001b[49m\u001b[43m \u001b[49m\u001b[43mpre_calc_units\u001b[49m\u001b[38;5;241;43m=\u001b[39;49m\u001b[43mpre_calc_units\u001b[49m\u001b[43m)\u001b[49m\u001b[43m \u001b[49m\u001b[38;5;28;43;01mfor\u001b[39;49;00m\u001b[43m \u001b[49m\u001b[43marg\u001b[49m\u001b[43m \u001b[49m\u001b[38;5;129;43;01min\u001b[39;49;00m\u001b[43m \u001b[49m\u001b[43margs\u001b[49m\u001b[43m)\u001b[49m,\n\u001b[1;32m    112\u001b[0m         {\n\u001b[1;32m    113\u001b[0m             key: convert_arg(arg, pre_calc_units\u001b[38;5;241m=\u001b[39mpre_calc_units)\n\u001b[1;32m    114\u001b[0m             \u001b[38;5;28;01mfor\u001b[39;00m key, arg \u001b[38;5;129;01min\u001b[39;00m kwargs\u001b[38;5;241m.\u001b[39mitems()\n\u001b[1;32m    115\u001b[0m         },\n\u001b[1;32m    116\u001b[0m     )\n",
      "File \u001b[0;32m/Library/Frameworks/Python.framework/Versions/3.12/lib/python3.12/site-packages/pint/facets/numpy/numpy_func.py:111\u001b[0m, in \u001b[0;36m<genexpr>\u001b[0;34m(.0)\u001b[0m\n\u001b[1;32m    101\u001b[0m \u001b[38;5;28;01mdef\u001b[39;00m \u001b[38;5;21mconvert_to_consistent_units\u001b[39m(\u001b[38;5;241m*\u001b[39margs, pre_calc_units\u001b[38;5;241m=\u001b[39m\u001b[38;5;28;01mNone\u001b[39;00m, \u001b[38;5;241m*\u001b[39m\u001b[38;5;241m*\u001b[39mkwargs):\n\u001b[1;32m    102\u001b[0m \u001b[38;5;250m    \u001b[39m\u001b[38;5;124;03m\"\"\"Prepare args and kwargs for wrapping by unit conversion and stripping.\u001b[39;00m\n\u001b[1;32m    103\u001b[0m \n\u001b[1;32m    104\u001b[0m \u001b[38;5;124;03m    If pre_calc_units is not None, takes the args and kwargs for a NumPy function and\u001b[39;00m\n\u001b[0;32m   (...)\u001b[0m\n\u001b[1;32m    108\u001b[0m \u001b[38;5;124;03m    stripped.\u001b[39;00m\n\u001b[1;32m    109\u001b[0m \u001b[38;5;124;03m    \"\"\"\u001b[39;00m\n\u001b[1;32m    110\u001b[0m     \u001b[38;5;28;01mreturn\u001b[39;00m (\n\u001b[0;32m--> 111\u001b[0m         \u001b[38;5;28mtuple\u001b[39m(\u001b[43mconvert_arg\u001b[49m\u001b[43m(\u001b[49m\u001b[43marg\u001b[49m\u001b[43m,\u001b[49m\u001b[43m \u001b[49m\u001b[43mpre_calc_units\u001b[49m\u001b[38;5;241;43m=\u001b[39;49m\u001b[43mpre_calc_units\u001b[49m\u001b[43m)\u001b[49m \u001b[38;5;28;01mfor\u001b[39;00m arg \u001b[38;5;129;01min\u001b[39;00m args),\n\u001b[1;32m    112\u001b[0m         {\n\u001b[1;32m    113\u001b[0m             key: convert_arg(arg, pre_calc_units\u001b[38;5;241m=\u001b[39mpre_calc_units)\n\u001b[1;32m    114\u001b[0m             \u001b[38;5;28;01mfor\u001b[39;00m key, arg \u001b[38;5;129;01min\u001b[39;00m kwargs\u001b[38;5;241m.\u001b[39mitems()\n\u001b[1;32m    115\u001b[0m         },\n\u001b[1;32m    116\u001b[0m     )\n",
      "File \u001b[0;32m/Library/Frameworks/Python.framework/Versions/3.12/lib/python3.12/site-packages/pint/facets/numpy/numpy_func.py:84\u001b[0m, in \u001b[0;36mconvert_arg\u001b[0;34m(arg, pre_calc_units)\u001b[0m\n\u001b[1;32m     82\u001b[0m \u001b[38;5;28;01mif\u001b[39;00m pre_calc_units \u001b[38;5;129;01mis\u001b[39;00m \u001b[38;5;129;01mnot\u001b[39;00m \u001b[38;5;28;01mNone\u001b[39;00m:\n\u001b[1;32m     83\u001b[0m     \u001b[38;5;28;01mif\u001b[39;00m _is_quantity(arg):\n\u001b[0;32m---> 84\u001b[0m         \u001b[38;5;28;01mreturn\u001b[39;00m \u001b[43marg\u001b[49m\u001b[38;5;241;43m.\u001b[39;49m\u001b[43mm_as\u001b[49m\u001b[43m(\u001b[49m\u001b[43mpre_calc_units\u001b[49m\u001b[43m)\u001b[49m\n\u001b[1;32m     85\u001b[0m     \u001b[38;5;28;01melif\u001b[39;00m _is_sequence_with_quantity_elements(arg):\n\u001b[1;32m     86\u001b[0m         \u001b[38;5;28;01mreturn\u001b[39;00m [convert_arg(item, pre_calc_units) \u001b[38;5;28;01mfor\u001b[39;00m item \u001b[38;5;129;01min\u001b[39;00m arg]\n",
      "File \u001b[0;32m/Library/Frameworks/Python.framework/Versions/3.12/lib/python3.12/site-packages/pint/facets/plain/quantity.py:311\u001b[0m, in \u001b[0;36mPlainQuantity.m_as\u001b[0;34m(self, units)\u001b[0m\n\u001b[1;32m    299\u001b[0m \u001b[38;5;28;01mdef\u001b[39;00m \u001b[38;5;21mm_as\u001b[39m(\u001b[38;5;28mself\u001b[39m, units) \u001b[38;5;241m-\u001b[39m\u001b[38;5;241m>\u001b[39m MagnitudeT:\n\u001b[1;32m    300\u001b[0m \u001b[38;5;250m    \u001b[39m\u001b[38;5;124;03m\"\"\"PlainQuantity's magnitude expressed in particular units.\u001b[39;00m\n\u001b[1;32m    301\u001b[0m \n\u001b[1;32m    302\u001b[0m \u001b[38;5;124;03m    Parameters\u001b[39;00m\n\u001b[0;32m   (...)\u001b[0m\n\u001b[1;32m    309\u001b[0m \n\u001b[1;32m    310\u001b[0m \u001b[38;5;124;03m    \"\"\"\u001b[39;00m\n\u001b[0;32m--> 311\u001b[0m     \u001b[38;5;28;01mreturn\u001b[39;00m \u001b[38;5;28;43mself\u001b[39;49m\u001b[38;5;241;43m.\u001b[39;49m\u001b[43mto\u001b[49m\u001b[43m(\u001b[49m\u001b[43munits\u001b[49m\u001b[43m)\u001b[49m\u001b[38;5;241m.\u001b[39mmagnitude\n",
      "File \u001b[0;32m/Library/Frameworks/Python.framework/Versions/3.12/lib/python3.12/site-packages/pint/facets/plain/quantity.py:528\u001b[0m, in \u001b[0;36mPlainQuantity.to\u001b[0;34m(self, other, *contexts, **ctx_kwargs)\u001b[0m\n\u001b[1;32m    511\u001b[0m \u001b[38;5;250m\u001b[39m\u001b[38;5;124;03m\"\"\"Return PlainQuantity rescaled to different units.\u001b[39;00m\n\u001b[1;32m    512\u001b[0m \n\u001b[1;32m    513\u001b[0m \u001b[38;5;124;03mParameters\u001b[39;00m\n\u001b[0;32m   (...)\u001b[0m\n\u001b[1;32m    524\u001b[0m \u001b[38;5;124;03mpint.PlainQuantity\u001b[39;00m\n\u001b[1;32m    525\u001b[0m \u001b[38;5;124;03m\"\"\"\u001b[39;00m\n\u001b[1;32m    526\u001b[0m other \u001b[38;5;241m=\u001b[39m to_units_container(other, \u001b[38;5;28mself\u001b[39m\u001b[38;5;241m.\u001b[39m_REGISTRY)\n\u001b[0;32m--> 528\u001b[0m magnitude \u001b[38;5;241m=\u001b[39m \u001b[38;5;28;43mself\u001b[39;49m\u001b[38;5;241;43m.\u001b[39;49m\u001b[43m_convert_magnitude_not_inplace\u001b[49m\u001b[43m(\u001b[49m\u001b[43mother\u001b[49m\u001b[43m,\u001b[49m\u001b[43m \u001b[49m\u001b[38;5;241;43m*\u001b[39;49m\u001b[43mcontexts\u001b[49m\u001b[43m,\u001b[49m\u001b[43m \u001b[49m\u001b[38;5;241;43m*\u001b[39;49m\u001b[38;5;241;43m*\u001b[39;49m\u001b[43mctx_kwargs\u001b[49m\u001b[43m)\u001b[49m\n\u001b[1;32m    530\u001b[0m \u001b[38;5;28;01mreturn\u001b[39;00m \u001b[38;5;28mself\u001b[39m\u001b[38;5;241m.\u001b[39m\u001b[38;5;18m__class__\u001b[39m(magnitude, other)\n",
      "File \u001b[0;32m/Library/Frameworks/Python.framework/Versions/3.12/lib/python3.12/site-packages/pint/facets/plain/quantity.py:472\u001b[0m, in \u001b[0;36mPlainQuantity._convert_magnitude_not_inplace\u001b[0;34m(self, other, *contexts, **ctx_kwargs)\u001b[0m\n\u001b[1;32m    469\u001b[0m     \u001b[38;5;28;01mwith\u001b[39;00m \u001b[38;5;28mself\u001b[39m\u001b[38;5;241m.\u001b[39m_REGISTRY\u001b[38;5;241m.\u001b[39mcontext(\u001b[38;5;241m*\u001b[39mcontexts, \u001b[38;5;241m*\u001b[39m\u001b[38;5;241m*\u001b[39mctx_kwargs):\n\u001b[1;32m    470\u001b[0m         \u001b[38;5;28;01mreturn\u001b[39;00m \u001b[38;5;28mself\u001b[39m\u001b[38;5;241m.\u001b[39m_REGISTRY\u001b[38;5;241m.\u001b[39mconvert(\u001b[38;5;28mself\u001b[39m\u001b[38;5;241m.\u001b[39m_magnitude, \u001b[38;5;28mself\u001b[39m\u001b[38;5;241m.\u001b[39m_units, other)\n\u001b[0;32m--> 472\u001b[0m \u001b[38;5;28;01mreturn\u001b[39;00m \u001b[38;5;28;43mself\u001b[39;49m\u001b[38;5;241;43m.\u001b[39;49m\u001b[43m_REGISTRY\u001b[49m\u001b[38;5;241;43m.\u001b[39;49m\u001b[43mconvert\u001b[49m\u001b[43m(\u001b[49m\u001b[38;5;28;43mself\u001b[39;49m\u001b[38;5;241;43m.\u001b[39;49m\u001b[43m_magnitude\u001b[49m\u001b[43m,\u001b[49m\u001b[43m \u001b[49m\u001b[38;5;28;43mself\u001b[39;49m\u001b[38;5;241;43m.\u001b[39;49m\u001b[43m_units\u001b[49m\u001b[43m,\u001b[49m\u001b[43m \u001b[49m\u001b[43mother\u001b[49m\u001b[43m)\u001b[49m\n",
      "File \u001b[0;32m/Library/Frameworks/Python.framework/Versions/3.12/lib/python3.12/site-packages/pint/facets/plain/registry.py:1028\u001b[0m, in \u001b[0;36mGenericPlainRegistry.convert\u001b[0;34m(self, value, src, dst, inplace)\u001b[0m\n\u001b[1;32m   1025\u001b[0m \u001b[38;5;28;01mif\u001b[39;00m src \u001b[38;5;241m==\u001b[39m dst:\n\u001b[1;32m   1026\u001b[0m     \u001b[38;5;28;01mreturn\u001b[39;00m value\n\u001b[0;32m-> 1028\u001b[0m \u001b[38;5;28;01mreturn\u001b[39;00m \u001b[38;5;28;43mself\u001b[39;49m\u001b[38;5;241;43m.\u001b[39;49m\u001b[43m_convert\u001b[49m\u001b[43m(\u001b[49m\u001b[43mvalue\u001b[49m\u001b[43m,\u001b[49m\u001b[43m \u001b[49m\u001b[43msrc\u001b[49m\u001b[43m,\u001b[49m\u001b[43m \u001b[49m\u001b[43mdst\u001b[49m\u001b[43m,\u001b[49m\u001b[43m \u001b[49m\u001b[43minplace\u001b[49m\u001b[43m)\u001b[49m\n",
      "File \u001b[0;32m/Library/Frameworks/Python.framework/Versions/3.12/lib/python3.12/site-packages/pint/facets/context/registry.py:404\u001b[0m, in \u001b[0;36mGenericContextRegistry._convert\u001b[0;34m(self, value, src, dst, inplace)\u001b[0m\n\u001b[1;32m    400\u001b[0m             src \u001b[38;5;241m=\u001b[39m \u001b[38;5;28mself\u001b[39m\u001b[38;5;241m.\u001b[39m_active_ctx\u001b[38;5;241m.\u001b[39mtransform(a, b, \u001b[38;5;28mself\u001b[39m, src)\n\u001b[1;32m    402\u001b[0m         value, src \u001b[38;5;241m=\u001b[39m src\u001b[38;5;241m.\u001b[39m_magnitude, src\u001b[38;5;241m.\u001b[39m_units\n\u001b[0;32m--> 404\u001b[0m \u001b[38;5;28;01mreturn\u001b[39;00m \u001b[38;5;28;43msuper\u001b[39;49m\u001b[43m(\u001b[49m\u001b[43m)\u001b[49m\u001b[38;5;241;43m.\u001b[39;49m\u001b[43m_convert\u001b[49m\u001b[43m(\u001b[49m\u001b[43mvalue\u001b[49m\u001b[43m,\u001b[49m\u001b[43m \u001b[49m\u001b[43msrc\u001b[49m\u001b[43m,\u001b[49m\u001b[43m \u001b[49m\u001b[43mdst\u001b[49m\u001b[43m,\u001b[49m\u001b[43m \u001b[49m\u001b[43minplace\u001b[49m\u001b[43m)\u001b[49m\n",
      "File \u001b[0;32m/Library/Frameworks/Python.framework/Versions/3.12/lib/python3.12/site-packages/pint/facets/nonmultiplicative/registry.py:254\u001b[0m, in \u001b[0;36mGenericNonMultiplicativeRegistry._convert\u001b[0;34m(self, value, src, dst, inplace)\u001b[0m\n\u001b[1;32m    249\u001b[0m     \u001b[38;5;28;01mraise\u001b[39;00m DimensionalityError(\n\u001b[1;32m    250\u001b[0m         src, dst, extra_msg\u001b[38;5;241m=\u001b[39m\u001b[38;5;124mf\u001b[39m\u001b[38;5;124m\"\u001b[39m\u001b[38;5;124m - In destination units, \u001b[39m\u001b[38;5;132;01m{\u001b[39;00mex\u001b[38;5;132;01m}\u001b[39;00m\u001b[38;5;124m\"\u001b[39m\n\u001b[1;32m    251\u001b[0m     )\n\u001b[1;32m    253\u001b[0m \u001b[38;5;28;01mif\u001b[39;00m \u001b[38;5;129;01mnot\u001b[39;00m (src_offset_unit \u001b[38;5;129;01mor\u001b[39;00m dst_offset_unit):\n\u001b[0;32m--> 254\u001b[0m     \u001b[38;5;28;01mreturn\u001b[39;00m \u001b[38;5;28;43msuper\u001b[39;49m\u001b[43m(\u001b[49m\u001b[43m)\u001b[49m\u001b[38;5;241;43m.\u001b[39;49m\u001b[43m_convert\u001b[49m\u001b[43m(\u001b[49m\u001b[43mvalue\u001b[49m\u001b[43m,\u001b[49m\u001b[43m \u001b[49m\u001b[43msrc\u001b[49m\u001b[43m,\u001b[49m\u001b[43m \u001b[49m\u001b[43mdst\u001b[49m\u001b[43m,\u001b[49m\u001b[43m \u001b[49m\u001b[43minplace\u001b[49m\u001b[43m)\u001b[49m\n\u001b[1;32m    256\u001b[0m src_dim \u001b[38;5;241m=\u001b[39m \u001b[38;5;28mself\u001b[39m\u001b[38;5;241m.\u001b[39m_get_dimensionality(src)\n\u001b[1;32m    257\u001b[0m dst_dim \u001b[38;5;241m=\u001b[39m \u001b[38;5;28mself\u001b[39m\u001b[38;5;241m.\u001b[39m_get_dimensionality(dst)\n",
      "File \u001b[0;32m/Library/Frameworks/Python.framework/Versions/3.12/lib/python3.12/site-packages/pint/facets/plain/registry.py:1063\u001b[0m, in \u001b[0;36mGenericPlainRegistry._convert\u001b[0;34m(self, value, src, dst, inplace, check_dimensionality)\u001b[0m\n\u001b[1;32m   1060\u001b[0m factor \u001b[38;5;241m=\u001b[39m \u001b[38;5;28mself\u001b[39m\u001b[38;5;241m.\u001b[39m_get_conversion_factor(src, dst)\n\u001b[1;32m   1062\u001b[0m \u001b[38;5;28;01mif\u001b[39;00m \u001b[38;5;28misinstance\u001b[39m(factor, DimensionalityError):\n\u001b[0;32m-> 1063\u001b[0m     \u001b[38;5;28;01mraise\u001b[39;00m factor\n\u001b[1;32m   1065\u001b[0m \u001b[38;5;66;03m# factor is type float and if our magnitude is type Decimal then\u001b[39;00m\n\u001b[1;32m   1066\u001b[0m \u001b[38;5;66;03m# must first convert to Decimal before we can '*' the values\u001b[39;00m\n\u001b[1;32m   1067\u001b[0m \u001b[38;5;28;01mif\u001b[39;00m \u001b[38;5;28misinstance\u001b[39m(value, Decimal):\n",
      "\u001b[0;31mDimensionalityError\u001b[0m: Cannot convert from 'meter' ([length]) to 'dimensionless' (dimensionless)"
     ]
    }
   ],
   "source": [
    "print(dist_one)\n",
    "\n",
    "np.exp(dist_one) # note how this is not dimensionless and consequently fails to work"
   ]
  },
  {
   "cell_type": "markdown",
   "metadata": {},
   "source": [
    "The example above is particularly important for Thermodynamics when considering how the partition function (in the canonical ensemble) is defined:\n",
    "\n",
    "$$ Q = \\sum_i e^{- \\varepsilon_i / k_BT} $$\n",
    "\n",
    "We can very easily compute this sum using what we've learned so far in the way of loops, and we can make sure the dimensions are correct using Pint. Let's find the partition function for a particle in a 1D-box where the particle has the mass of a proton and the box is 10 angstroms long considering the first five states.\n",
    "\n",
    "<a class=\"anchor\" id=\"part_func\"></a>"
   ]
  },
  {
   "cell_type": "code",
   "execution_count": 65,
   "metadata": {},
   "outputs": [
    {
     "name": "stdout",
     "output_type": "stream",
     "text": [
      "1.054571817e-34 joule * second\n",
      "1.67262192e-27 kilogram\n",
      "10 angstrom\n",
      "1.380649e-23 joule / kelvin\n",
      "500 kelvin\n"
     ]
    }
   ],
   "source": [
    "hbar = 1.054571817e-34 * ureg.joule * ureg.s # hbar in SI Units [J*s]\n",
    "\n",
    "print(hbar)\n",
    "\n",
    "m = 1.67262192e-27 * ureg.kg # mass of proton in kg\n",
    "\n",
    "print(m)\n",
    "\n",
    "L = 10 * ureg.angstrom\n",
    "\n",
    "print(L)\n",
    "\n",
    "kb = 1.380649e-23 * ureg.joule / ureg.kelvin\n",
    "\n",
    "print(kb)\n",
    "\n",
    "T = 500 * ureg.kelvin\n",
    "\n",
    "print(T)"
   ]
  },
  {
   "cell_type": "code",
   "execution_count": 76,
   "metadata": {},
   "outputs": [
    {
     "name": "stdout",
     "output_type": "stream",
     "text": [
      "[3.2811364192601265e-43 1.3124545677040506e-42 2.953022777334114e-42 5.2498182708162024e-42 8.202841048150316e-42] joule ** 2 * second ** 2 / angstrom ** 2 / kilogram\n",
      "[<Quantity(0.995258243, 'dimensionless')>, <Quantity(0.981167451, 'dimensionless')>, <Quantity(0.958124727, 'dimensionless')>, <Quantity(0.926771203, 'dimensionless')>, <Quantity(0.887962407, 'dimensionless')>]\n",
      "The final answer is: 4.749284031759871 dimensionless\n"
     ]
    }
   ],
   "source": [
    "n = np.arange(1, 6, 1)\n",
    "Q = [] # initialize empty list to house\n",
    "E = (np.pi ** 2 * hbar ** 2 * n**2) / (2 * m * L ** 2)\n",
    "\n",
    "print(E)\n",
    "\n",
    "for i, energy in enumerate(E): # for loop through each element in E\n",
    "    beta = 1 / (kb * T)\n",
    "    Q.append(np.exp(- energy * beta))\n",
    "\n",
    "print(Q)\n",
    "\n",
    "print(\"The final answer is:\", sum(Q))"
   ]
  },
  {
   "cell_type": "markdown",
   "metadata": {},
   "source": [
    "# $\\S 3.$ Calculus <a class=\"anchor\" id=\"third-bullet\"></a>"
   ]
  },
  {
   "cell_type": "markdown",
   "metadata": {},
   "source": [
    "The package `SymPy` allows for symbolic calculus to be performed right here on your machine. Numerical forms of this are also possible, but we'll start with what you might be used to seeing."
   ]
  },
  {
   "cell_type": "code",
   "execution_count": null,
   "metadata": {},
   "outputs": [],
   "source": [
    "from sympy import *\n",
    "x, y, z = symbols('x y z')\n",
    "init_printing(use_unicode=True)"
   ]
  },
  {
   "cell_type": "code",
   "execution_count": null,
   "metadata": {},
   "outputs": [
    {
     "data": {
      "image/png": "[encoded data removed]",
      "text/latex": [
       "$\\displaystyle - \\sin{\\left(x \\right)}$"
      ],
      "text/plain": [
       "-sin(x)"
      ]
     },
     "execution_count": 47,
     "metadata": {},
     "output_type": "execute_result"
    }
   ],
   "source": [
    "diff(cos(x), x)"
   ]
  },
  {
   "cell_type": "code",
   "execution_count": null,
   "metadata": {},
   "outputs": [
    {
     "data": {
      "image/png": "[encoded data removed]",
      "text/latex": [
       "$\\displaystyle 2 x e^{x^{2}}$"
      ],
      "text/plain": [
       "     ⎛ 2⎞\n",
       "     ⎝x ⎠\n",
       "2⋅x⋅ℯ    "
      ]
     },
     "execution_count": 48,
     "metadata": {},
     "output_type": "execute_result"
    }
   ],
   "source": [
    "diff(exp(x**2), x)"
   ]
  },
  {
   "cell_type": "code",
   "execution_count": null,
   "metadata": {},
   "outputs": [
    {
     "data": {
      "image/png": "[encoded data removed]",
      "text/latex": [
       "$\\displaystyle 24 x$"
      ],
      "text/plain": [
       "24⋅x"
      ]
     },
     "execution_count": 49,
     "metadata": {},
     "output_type": "execute_result"
    }
   ],
   "source": [
    "diff(x**4, x, 3) # third derivative of x^4"
   ]
  },
  {
   "cell_type": "code",
   "execution_count": null,
   "metadata": {},
   "outputs": [
    {
     "data": {
      "image/png": "[encoded data removed]",
      "text/latex": [
       "$\\displaystyle \\sin{\\left(x \\right)}$"
      ],
      "text/plain": [
       "sin(x)"
      ]
     },
     "execution_count": 50,
     "metadata": {},
     "output_type": "execute_result"
    }
   ],
   "source": [
    "integrate(cos(x), x)"
   ]
  },
  {
   "cell_type": "code",
   "execution_count": null,
   "metadata": {},
   "outputs": [
    {
     "data": {
      "image/png": "[encoded data removed]",
      "text/latex": [
       "$\\displaystyle 1$"
      ],
      "text/plain": [
       "1"
      ]
     },
     "execution_count": 51,
     "metadata": {},
     "output_type": "execute_result"
    }
   ],
   "source": [
    "integrate(exp(-x), (x, 0, oo)) # integrate e^-x from 0 to infinity "
   ]
  },
  {
   "cell_type": "code",
   "execution_count": null,
   "metadata": {},
   "outputs": [
    {
     "data": {
      "image/png": "[encoded data removed]",
      "text/latex": [
       "$\\displaystyle \\sqrt{\\pi}$"
      ],
      "text/plain": [
       "√π"
      ]
     },
     "execution_count": 52,
     "metadata": {},
     "output_type": "execute_result"
    }
   ],
   "source": [
    "integrate(exp(-x**2), (x, -oo, oo)) # integrate single Gaussian, a common integral in quantum mechanics"
   ]
  },
  {
   "cell_type": "code",
   "execution_count": null,
   "metadata": {},
   "outputs": [
    {
     "data": {
      "image/png": "[encoded data removed]",
      "text/latex": [
       "$\\displaystyle \\pi$"
      ],
      "text/plain": [
       "π"
      ]
     },
     "execution_count": 53,
     "metadata": {},
     "output_type": "execute_result"
    }
   ],
   "source": [
    "integrate(exp(-x**2 - y**2), (x, -oo, oo), (y, -oo, oo)) # integrate double Gaussian"
   ]
  },
  {
   "cell_type": "markdown",
   "metadata": {},
   "source": [
    "# $\\S 4.$ Linear Algebra <a class=\"anchor\" id=\"fourth-bullet\"></a>"
   ]
  },
  {
   "cell_type": "markdown",
   "metadata": {},
   "source": [
    "Matrix and vector addition proceeds element-by-element. \n",
    "\n",
    "$$ \\vec{a} + \\vec{b} = \\begin{bmatrix} a_1 + b_1 \\\\ a_2 + b_2 \\\\ \\vdots \\\\ a_n + b_n \\end{bmatrix} $$\n",
    "Here, we see it's necessary for the vectors to have the same number of entries for the procedure to be defined. Subtraction works the same way, just flipping the sign of each element in the second vector. \n",
    "\n",
    "Matrix multiplication isn't quite as intuitive, however we showed how it arises naturally when one considers representing a system of equations using matrices and vectors, and how one can recover that system through matrix multiplication. The formula is as follows:\n",
    "\n",
    "$$ \\sum_j A_{ij} B_{jk} = C_{ik} $$\n",
    "Here, the first subscript corresponds to the number of rows while the second describes the number of columns. Since we sum along *j*, we see that the first matrix must have the same number of columns as the second one has rows. Pictorially, we can see it below:"
   ]
  },
  {
   "cell_type": "code",
   "execution_count": null,
   "metadata": {},
   "outputs": [
    {
     "data": {
      "image/png": "[encoded data removed]",
      "text/plain": [
       "<IPython.core.display.Image object>"
      ]
     },
     "metadata": {
      "image/png": {
       "height": 600,
       "width": 600
      }
     },
     "output_type": "display_data"
    }
   ],
   "source": [
    "from IPython.display import display, Image\n",
    "\n",
    "display(Image(filename=\"/Users/mohan/Desktop/Misc/stemva/linalg_talk/matmul.png\", height = 600, width = 600))"
   ]
  },
  {
   "cell_type": "code",
   "execution_count": null,
   "metadata": {},
   "outputs": [
    {
     "data": {
      "text/latex": [
       "$\\displaystyle \\left( \\left[\\begin{matrix}0 & 2\\\\0 & 3\\end{matrix}\\right], \\  \\left[\\begin{matrix}1\\\\1\\end{matrix}\\right], \\  \\left[\\begin{matrix}2\\\\3\\end{matrix}\\right], \\  \\left[\\begin{matrix}2\\\\4\\end{matrix}\\right]\\right)$"
      ],
      "text/plain": [
       "⎛⎡0  2⎤  ⎡1⎤  ⎡2⎤  ⎡2⎤⎞\n",
       "⎜⎢    ⎥, ⎢ ⎥, ⎢ ⎥, ⎢ ⎥⎟\n",
       "⎝⎣0  3⎦  ⎣1⎦  ⎣3⎦  ⎣4⎦⎠"
      ]
     },
     "execution_count": 55,
     "metadata": {},
     "output_type": "execute_result"
    }
   ],
   "source": [
    "A = np.random.randint(5, size = 4).reshape(2,2)\n",
    "c = np.random.randint(5, size = 2).reshape(2,1)\n",
    "v = np.array([1, 1])\n",
    "\n",
    "A_sym = Matrix(A)\n",
    "c_sym = Matrix(c)\n",
    "v_sym = Matrix(v)\n",
    "\n",
    "w = A @ v\n",
    "\n",
    "A_sym, v_sym, A_sym*v_sym, c_sym # sympy matrix multiplication works using \"*\""
   ]
  },
  {
   "cell_type": "code",
   "execution_count": null,
   "metadata": {},
   "outputs": [
    {
     "name": "stdout",
     "output_type": "stream",
     "text": [
      "Matrix: \n",
      " [[0 2]\n",
      " [0 3]]\n",
      "Initial Vector: [1 1]\n",
      "New Vector: [2 3]\n",
      "Non-Matmul Product: \n",
      " [[ 0  4]\n",
      " [ 0 12]]\n"
     ]
    },
    {
     "data": {
      "image/png": "[encoded data removed]",
      "text/plain": [
       "<Figure size 640x480 with 1 Axes>"
      ]
     },
     "metadata": {},
     "output_type": "display_data"
    }
   ],
   "source": [
    "import matplotlib.pyplot as plt\n",
    "\n",
    "print(\"Matrix: \\n\", A)\n",
    "print(\"Initial Vector:\", v)\n",
    "print(\"New Vector:\", A @ v) # All other matrix multiplcation works using \"@\", \"np.matmul\", or \"np.dot\"; try it here!\n",
    "\n",
    "print(\"Non-Matmul Product: \\n\", A*c) # \"*\" performs element wise multiplication between matrices/vectors which differs from an inner product\n",
    "\n",
    "fig, ax = plt.subplots()\n",
    "ax.quiver(0, 0, v[0], v[1], angles='xy', scale_units='xy', scale=1, color='k')\n",
    "ax.quiver(0, 0, w[0], w[1], angles='xy', scale_units='xy', scale=1, color='r')\n",
    "ax.set_xlim([-5, 10])\n",
    "ax.set_ylim([-5, 10])\n",
    "plt.grid()\n",
    "plt.show()"
   ]
  },
  {
   "cell_type": "markdown",
   "metadata": {},
   "source": [
    "# $\\S 5.$ Miscellaneous but Cool <a class=\"anchor\" id=\"fifth-bullet\"></a>"
   ]
  },
  {
   "cell_type": "markdown",
   "metadata": {},
   "source": [
    "Attached below is code to look up any chemical compound in the PubChem data base and calculate how many C-H bonds it has."
   ]
  },
  {
   "cell_type": "code",
   "execution_count": null,
   "metadata": {},
   "outputs": [
    {
     "name": "stdout",
     "output_type": "stream",
     "text": [
      "There are 31 C-H bonds in palmitic acid.\n",
      "There are 31 C-H bonds in the compound.\n"
     ]
    }
   ],
   "source": [
    "import requests\n",
    "import pubchempy as pcp\n",
    "import numpy as np\n",
    "\n",
    "\n",
    "name = 'palmitic acid'\n",
    "cas_num = '57-10-3'\n",
    "\n",
    "def get_cid(number):\n",
    "    '''\n",
    "    Returns CID number from CAS \n",
    "    '''\n",
    "    r = requests.get('https://pubchem.ncbi.nlm.nih.gov/rest/pug/compound/name/'+number+'/cids/TXT') \n",
    "    print(r.text)\n",
    "    return r\n",
    "\n",
    "def ch_bond_finder(compound):\n",
    "    results = pcp.get_compounds(compound, 'name')\n",
    "    data = results[0].to_dict(properties=['atoms', 'bonds']) # results itself is a list, so you have to grab the 'compound' data type within the list\n",
    "    aid_carbon = [] # store atomic id's for all carbon atoms present in the compound when looking at the atom data\n",
    "    aid_hydrogen = [] # store atomic id's for all hydrogen atoms present in the compound when looking at the atom data\n",
    "\n",
    "    for i in range(len(data['atoms'])): # iterate thru all atoms in compounds\n",
    "        atom_values = data['atoms'][i].values() # grab relevant atom data \n",
    "        atom_name = list(atom_values)[2] # turn the values of the dictionary into a list so they can be indexed\n",
    "        if atom_name == 'C':\n",
    "            aid_carbon.append(list(atom_values)[0]) # append atomic id to appropriate list\n",
    "        elif atom_name == 'H':\n",
    "            aid_hydrogen.append(list(atom_values)[0]) # append atomic id to appropriate list\n",
    "        \n",
    "    num_ch_bonds = 0\n",
    "\n",
    "    for i in range(len(data['bonds'])): # iterate thru all atoms in compounds\n",
    "        bond_values = data['bonds'][i].values() # the bonds dictionary lists atom 1 [0], atom 2 [1], and the order of the bond [3]\n",
    "        if list(bond_values)[0] in aid_carbon and list(bond_values)[1] in aid_hydrogen and list(bond_values)[2] == 1: # Non-Hydrogen atoms are always listed first (indexed by 0), so check if there is a C-H bond of order 1\n",
    "            num_ch_bonds += 1\n",
    "\n",
    "    return num_ch_bonds\n",
    "        \n",
    "\n",
    "num_ch_bonds = ch_bond_finder(name)\n",
    "\n",
    "print(\"There are {} C-H bonds in {}.\".format(num_ch_bonds, name))\n",
    "\n",
    "num_ch_bonds = ch_bond_finder(cas_num)\n",
    "\n",
    "print(\"There are {} C-H bonds in the compound.\".format(num_ch_bonds))\n",
    "        "
   ]
  }
 ],
 "metadata": {
  "kernelspec": {
   "display_name": "Python 3",
   "language": "python",
   "name": "python3"
  },
  "language_info": {
   "codemirror_mode": {
    "name": "ipython",
    "version": 3
   },
   "file_extension": ".py",
   "mimetype": "text/x-python",
   "name": "python",
   "nbconvert_exporter": "python",
   "pygments_lexer": "ipython3",
   "version": "3.12.2"
  }
 },
 "nbformat": 4,
 "nbformat_minor": 2
}
